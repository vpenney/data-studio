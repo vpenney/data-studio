{
 "cells": [
  {
   "cell_type": "code",
   "execution_count": 8,
   "metadata": {},
   "outputs": [],
   "source": [
    "from time import sleep\n",
    "import requests\n",
    "import pandas as pd\n",
    "import re\n",
    "import urllib"
   ]
  },
  {
   "cell_type": "code",
   "execution_count": 9,
   "metadata": {},
   "outputs": [
    {
     "data": {
      "text/html": [
       "<div>\n",
       "<style scoped>\n",
       "    .dataframe tbody tr th:only-of-type {\n",
       "        vertical-align: middle;\n",
       "    }\n",
       "\n",
       "    .dataframe tbody tr th {\n",
       "        vertical-align: top;\n",
       "    }\n",
       "\n",
       "    .dataframe thead th {\n",
       "        text-align: right;\n",
       "    }\n",
       "</style>\n",
       "<table border=\"1\" class=\"dataframe\">\n",
       "  <thead>\n",
       "    <tr style=\"text-align: right;\">\n",
       "      <th></th>\n",
       "      <th>address</th>\n",
       "      <th>name</th>\n",
       "    </tr>\n",
       "  </thead>\n",
       "  <tbody>\n",
       "    <tr>\n",
       "      <th>0</th>\n",
       "      <td>['22 Bayview Ave Ste 15', 'Stonington, CT 0637...</td>\n",
       "      <td>The Beer'd Brewing Company</td>\n",
       "    </tr>\n",
       "    <tr>\n",
       "      <th>1</th>\n",
       "      <td>['1716 Topeka St', 'Norman, OK 73069-8224 | Map']</td>\n",
       "      <td>(405) Brewing Co</td>\n",
       "    </tr>\n",
       "    <tr>\n",
       "      <th>2</th>\n",
       "      <td>['407 Radam Ln Ste F200', 'Austin, TX 78745-11...</td>\n",
       "      <td>(512) Brewing Co</td>\n",
       "    </tr>\n",
       "    <tr>\n",
       "      <th>3</th>\n",
       "      <td>['490 Mill St', 'Reno, NV 89502 | Map']</td>\n",
       "      <td>10 Torr Distilling and Brewing</td>\n",
       "    </tr>\n",
       "    <tr>\n",
       "      <th>4</th>\n",
       "      <td>['294793 US Highway 101', 'Quilcene, WA 98376-...</td>\n",
       "      <td>101 Brewery</td>\n",
       "    </tr>\n",
       "  </tbody>\n",
       "</table>\n",
       "</div>"
      ],
      "text/plain": [
       "                                             address  \\\n",
       "0  ['22 Bayview Ave Ste 15', 'Stonington, CT 0637...   \n",
       "1  ['1716 Topeka St', 'Norman, OK 73069-8224 | Map']   \n",
       "2  ['407 Radam Ln Ste F200', 'Austin, TX 78745-11...   \n",
       "3            ['490 Mill St', 'Reno, NV 89502 | Map']   \n",
       "4  ['294793 US Highway 101', 'Quilcene, WA 98376-...   \n",
       "\n",
       "                             name  \n",
       "0      The Beer'd Brewing Company  \n",
       "1                (405) Brewing Co  \n",
       "2                (512) Brewing Co  \n",
       "3  10 Torr Distilling and Brewing  \n",
       "4                     101 Brewery  "
      ]
     },
     "execution_count": 9,
     "metadata": {},
     "output_type": "execute_result"
    }
   ],
   "source": [
    "df = pd.read_csv('brewery_addresses.csv')\n",
    "df.head()"
   ]
  },
  {
   "cell_type": "code",
   "execution_count": 10,
   "metadata": {},
   "outputs": [
    {
     "data": {
      "text/plain": [
       "\"['22 Bayview Ave Ste 15', 'Stonington, CT 06378-1143 | Map']\""
      ]
     },
     "execution_count": 10,
     "metadata": {},
     "output_type": "execute_result"
    }
   ],
   "source": [
    "df.address[0]"
   ]
  },
  {
   "cell_type": "code",
   "execution_count": 11,
   "metadata": {},
   "outputs": [
    {
     "data": {
      "text/html": [
       "<div>\n",
       "<style scoped>\n",
       "    .dataframe tbody tr th:only-of-type {\n",
       "        vertical-align: middle;\n",
       "    }\n",
       "\n",
       "    .dataframe tbody tr th {\n",
       "        vertical-align: top;\n",
       "    }\n",
       "\n",
       "    .dataframe thead th {\n",
       "        text-align: right;\n",
       "    }\n",
       "</style>\n",
       "<table border=\"1\" class=\"dataframe\">\n",
       "  <thead>\n",
       "    <tr style=\"text-align: right;\">\n",
       "      <th></th>\n",
       "      <th>address</th>\n",
       "      <th>name</th>\n",
       "      <th>longitude</th>\n",
       "      <th>latitude</th>\n",
       "    </tr>\n",
       "  </thead>\n",
       "  <tbody>\n",
       "    <tr>\n",
       "      <th>0</th>\n",
       "      <td>['22 Bayview Ave Ste 15', 'Stonington, CT 0637...</td>\n",
       "      <td>The Beer'd Brewing Company</td>\n",
       "      <td>0</td>\n",
       "      <td>0</td>\n",
       "    </tr>\n",
       "    <tr>\n",
       "      <th>1</th>\n",
       "      <td>['1716 Topeka St', 'Norman, OK 73069-8224 | Map']</td>\n",
       "      <td>(405) Brewing Co</td>\n",
       "      <td>0</td>\n",
       "      <td>0</td>\n",
       "    </tr>\n",
       "    <tr>\n",
       "      <th>2</th>\n",
       "      <td>['407 Radam Ln Ste F200', 'Austin, TX 78745-11...</td>\n",
       "      <td>(512) Brewing Co</td>\n",
       "      <td>0</td>\n",
       "      <td>0</td>\n",
       "    </tr>\n",
       "    <tr>\n",
       "      <th>3</th>\n",
       "      <td>['490 Mill St', 'Reno, NV 89502 | Map']</td>\n",
       "      <td>10 Torr Distilling and Brewing</td>\n",
       "      <td>0</td>\n",
       "      <td>0</td>\n",
       "    </tr>\n",
       "    <tr>\n",
       "      <th>4</th>\n",
       "      <td>['294793 US Highway 101', 'Quilcene, WA 98376-...</td>\n",
       "      <td>101 Brewery</td>\n",
       "      <td>0</td>\n",
       "      <td>0</td>\n",
       "    </tr>\n",
       "  </tbody>\n",
       "</table>\n",
       "</div>"
      ],
      "text/plain": [
       "                                             address  \\\n",
       "0  ['22 Bayview Ave Ste 15', 'Stonington, CT 0637...   \n",
       "1  ['1716 Topeka St', 'Norman, OK 73069-8224 | Map']   \n",
       "2  ['407 Radam Ln Ste F200', 'Austin, TX 78745-11...   \n",
       "3            ['490 Mill St', 'Reno, NV 89502 | Map']   \n",
       "4  ['294793 US Highway 101', 'Quilcene, WA 98376-...   \n",
       "\n",
       "                             name  longitude  latitude  \n",
       "0      The Beer'd Brewing Company          0         0  \n",
       "1                (405) Brewing Co          0         0  \n",
       "2                (512) Brewing Co          0         0  \n",
       "3  10 Torr Distilling and Brewing          0         0  \n",
       "4                     101 Brewery          0         0  "
      ]
     },
     "execution_count": 11,
     "metadata": {},
     "output_type": "execute_result"
    }
   ],
   "source": [
    "df['longitude'] = 0\n",
    "df['latitude'] = 0\n",
    "df.head()"
   ]
  },
  {
   "cell_type": "code",
   "execution_count": 5,
   "metadata": {},
   "outputs": [],
   "source": [
    "# # addresses = df.address\n",
    "# rows = []\n",
    "# for n, address in enumerate(df.address):\n",
    "#   coordinates = {}\n",
    "#   address = address.replace(\"[\", \"\").replace(\"]\", \"\").replace(\"'\", \"\").replace(\",\", \"\")\n",
    "#   if \"|\" in address:\n",
    "#     address = address.split(\"|\")[0]\n",
    "#   elif \"Type:\" in address:\n",
    "#     address = address.split(\"Type:\")[0]\n",
    "#   sleep(0.2)\n",
    "\n",
    "#   # Wrap this in try/except because hey if it fails it fails\n",
    "#   try:\n",
    "#     # Form the URL with the address in it\n",
    "#     url = \"http://maps.googleapis.com/maps/api/geocode/json?sensor=false&address={0}\".format(address)\n",
    "\n",
    "#     # Request the URL\n",
    "#     response = requests.get(url)\n",
    "\n",
    "#     # Retry on API query limit error\n",
    "#     while len(response.json()['results']) == 0 and response.json()['status'] == 'OVER_QUERY_LIMIT':\n",
    "#         response = requests.get(url)\n",
    "#         sleep(0.2)\n",
    "#     else:\n",
    "#         coords = response.json()['results'][0]['geometry']['location']\n",
    "    \n",
    "#     # Assign the lat/lng into the row\n",
    "#     df.loc[n, 'latitude'] = coords['lat']\n",
    "#     df.loc[n, 'longitude'] = coords['lng']\n",
    "    \n",
    "#     # Save to database\n",
    "#     # THIS DOES NOTHING. MAKE SURE TO ACTUALLY SAVE.\n",
    "#     print(\"{0} is at {1}, {2}\".format(df.loc[n, 'name'], df.loc[n, 'latitude'], df.loc[n, 'longitude']))\n",
    "\n",
    "#   except Exception as e:\n",
    "#     print(e)\n",
    "    \n",
    "#   rows.append(coordinates)   \n",
    "    \n",
    "# print(rows)"
   ]
  },
  {
   "cell_type": "code",
   "execution_count": null,
   "metadata": {},
   "outputs": [],
   "source": []
  },
  {
   "cell_type": "code",
   "execution_count": 12,
   "metadata": {},
   "outputs": [
    {
     "ename": "KeyboardInterrupt",
     "evalue": "",
     "output_type": "error",
     "traceback": [
      "\u001b[0;31m---------------------------------------------------------------------------\u001b[0m",
      "\u001b[0;31mKeyboardInterrupt\u001b[0m                         Traceback (most recent call last)",
      "\u001b[0;32m<ipython-input-12-a1e53bba9ba9>\u001b[0m in \u001b[0;36m<module>\u001b[0;34m()\u001b[0m\n\u001b[1;32m     23\u001b[0m     \u001b[0;32mwhile\u001b[0m \u001b[0mlen\u001b[0m\u001b[0;34m(\u001b[0m\u001b[0mresponse\u001b[0m\u001b[0;34m.\u001b[0m\u001b[0mjson\u001b[0m\u001b[0;34m(\u001b[0m\u001b[0;34m)\u001b[0m\u001b[0;34m[\u001b[0m\u001b[0;34m'results'\u001b[0m\u001b[0;34m]\u001b[0m\u001b[0;34m)\u001b[0m \u001b[0;34m==\u001b[0m \u001b[0;36m0\u001b[0m \u001b[0;32mand\u001b[0m \u001b[0mresponse\u001b[0m\u001b[0;34m.\u001b[0m\u001b[0mjson\u001b[0m\u001b[0;34m(\u001b[0m\u001b[0;34m)\u001b[0m\u001b[0;34m[\u001b[0m\u001b[0;34m'status'\u001b[0m\u001b[0;34m]\u001b[0m \u001b[0;34m==\u001b[0m \u001b[0;34m'OVER_QUERY_LIMIT'\u001b[0m\u001b[0;34m:\u001b[0m\u001b[0;34m\u001b[0m\u001b[0m\n\u001b[1;32m     24\u001b[0m         \u001b[0mresponse\u001b[0m \u001b[0;34m=\u001b[0m \u001b[0mrequests\u001b[0m\u001b[0;34m.\u001b[0m\u001b[0mget\u001b[0m\u001b[0;34m(\u001b[0m\u001b[0murl\u001b[0m\u001b[0;34m)\u001b[0m\u001b[0;34m\u001b[0m\u001b[0m\n\u001b[0;32m---> 25\u001b[0;31m         \u001b[0msleep\u001b[0m\u001b[0;34m(\u001b[0m\u001b[0;36m0.2\u001b[0m\u001b[0;34m)\u001b[0m\u001b[0;34m\u001b[0m\u001b[0m\n\u001b[0m\u001b[1;32m     26\u001b[0m     \u001b[0;32melse\u001b[0m\u001b[0;34m:\u001b[0m\u001b[0;34m\u001b[0m\u001b[0m\n\u001b[1;32m     27\u001b[0m         \u001b[0mcoords\u001b[0m \u001b[0;34m=\u001b[0m \u001b[0mresponse\u001b[0m\u001b[0;34m.\u001b[0m\u001b[0mjson\u001b[0m\u001b[0;34m(\u001b[0m\u001b[0;34m)\u001b[0m\u001b[0;34m[\u001b[0m\u001b[0;34m'results'\u001b[0m\u001b[0;34m]\u001b[0m\u001b[0;34m[\u001b[0m\u001b[0;36m0\u001b[0m\u001b[0;34m]\u001b[0m\u001b[0;34m[\u001b[0m\u001b[0;34m'geometry'\u001b[0m\u001b[0;34m]\u001b[0m\u001b[0;34m[\u001b[0m\u001b[0;34m'location'\u001b[0m\u001b[0;34m]\u001b[0m\u001b[0;34m\u001b[0m\u001b[0m\n",
      "\u001b[0;31mKeyboardInterrupt\u001b[0m: "
     ]
    }
   ],
   "source": [
    "# start at 5756\n",
    "start_index = 5756\n",
    "\n",
    "for n, address in enumerate(df.address.loc[start_index:]):\n",
    "  n += start_index\n",
    "  coordinates = {}\n",
    "  address = address.replace(\"[\", \"\").replace(\"]\", \"\").replace(\"'\", \"\").replace(\",\", \"\")\n",
    "  if \"|\" in address:\n",
    "    address = address.split(\"|\")[0]\n",
    "  elif \"Type:\" in address:\n",
    "    address = address.split(\"Type:\")[0]\n",
    "  sleep(0.2)\n",
    "\n",
    "  # Wrap this in try/except because hey if it fails it fails\n",
    "  try:\n",
    "    # Form the URL with the address in it\n",
    "    url = \"http://maps.googleapis.com/maps/api/geocode/json?sensor=false&address={0}\".format(address)\n",
    "\n",
    "    # Request the URL\n",
    "    response = requests.get(url)\n",
    "\n",
    "    # Retry on API query limit error\n",
    "    while len(response.json()['results']) == 0 and response.json()['status'] == 'OVER_QUERY_LIMIT':\n",
    "        response = requests.get(url)\n",
    "        sleep(0.2)\n",
    "    else:\n",
    "        coords = response.json()['results'][0]['geometry']['location']\n",
    "    \n",
    "    # Assign the lat/lng into the row\n",
    "    df.loc[n, 'latitude'] = coords['lat']\n",
    "    df.loc[n, 'longitude'] = coords['lng']\n",
    "    \n",
    "    # Save to database\n",
    "    # THIS DOES NOTHING. MAKE SURE TO ACTUALLY SAVE.\n",
    "    print(\"{0}, {1}, {2}\".format(df.loc[n, 'name'], df.loc[n, 'latitude'], df.loc[n, 'longitude'])) \n",
    "  except Exception as e:\n",
    "    print(e)\n"
   ]
  },
  {
   "cell_type": "code",
   "execution_count": null,
   "metadata": {},
   "outputs": [],
   "source": []
  },
  {
   "cell_type": "code",
   "execution_count": null,
   "metadata": {},
   "outputs": [],
   "source": [
    "df.to_csv('addresses-part4.csv')"
   ]
  },
  {
   "cell_type": "code",
   "execution_count": null,
   "metadata": {},
   "outputs": [],
   "source": []
  }
 ],
 "metadata": {
  "kernelspec": {
   "display_name": "Python 3",
   "language": "python",
   "name": "python3"
  },
  "language_info": {
   "codemirror_mode": {
    "name": "ipython",
    "version": 3
   },
   "file_extension": ".py",
   "mimetype": "text/x-python",
   "name": "python",
   "nbconvert_exporter": "python",
   "pygments_lexer": "ipython3",
   "version": "3.6.5"
  }
 },
 "nbformat": 4,
 "nbformat_minor": 2
}
